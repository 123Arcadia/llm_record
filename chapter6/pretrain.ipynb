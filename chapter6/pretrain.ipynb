{
 "cells": [
  {
   "cell_type": "code",
   "id": "initial_id",
   "metadata": {
    "collapsed": true,
    "jupyter": {
     "is_executing": true
    }
   },
   "source": [
    "# 加载定义好的模型参数-此处以 Qwen-2.5-1.5B 为例\n",
    "# 使用 transforemrs 的 Config 类进行加载\n",
    "import torch.cuda\n",
    "from transformers import AutoConfig\n",
    "\n",
    "# 加载一个预训练好的 tokenizer\n",
    "from transformers import AutoTokenizer\n",
    "\n",
    "# 使用该配置生成一个定义好的模型\n",
    "from transformers import AutoModelForCausalLM\n",
    "\n",
    "model_path = \"./autodl-tmp/qwen-1.5b\"\n",
    "\n",
    "config = AutoConfig.from_pretrained(model_path)\n",
    "\n",
    "model = AutoModelForCausalLM.from_config(config,trust_remote_code=True)\n",
    "model.to(\"cuda\" if torch.cuda.is_available() else 'cpu')\n",
    "# print(f'{model=}')\n",
    "n_params = sum({p.data_ptr(): p.numel() for p in model.parameters()}.values())\n",
    "print(f'{n_params=}')\n",
    "\n",
    "\n"
   ],
   "outputs": [],
   "execution_count": null
  }
 ],
 "metadata": {
  "kernelspec": {
   "display_name": "Python 3",
   "language": "python",
   "name": "python3"
  },
  "language_info": {
   "codemirror_mode": {
    "name": "ipython",
    "version": 2
   },
   "file_extension": ".py",
   "mimetype": "text/x-python",
   "name": "python",
   "nbconvert_exporter": "python",
   "pygments_lexer": "ipython2",
   "version": "2.7.6"
  }
 },
 "nbformat": 4,
 "nbformat_minor": 5
}
